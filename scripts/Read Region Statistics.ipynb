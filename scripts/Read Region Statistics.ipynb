{
 "cells": [
  {
   "cell_type": "code",
   "execution_count": 3,
   "metadata": {
    "ExecuteTime": {
     "end_time": "2021-03-01T05:26:29.947245Z",
     "start_time": "2021-03-01T05:26:29.924283Z"
    }
   },
   "outputs": [
    {
     "name": "stdout",
     "output_type": "stream",
     "text": [
      "2021-02-28\n",
      " - GMM- 2021-02-28 .txt\n"
     ]
    }
   ],
   "source": [
    "%matplotlib inline\n",
    "import pandas as pd\n",
    "import numpy as np\n",
    "import matplotlib.pyplot as plt\n",
    "import requests\n",
    "import io\n",
    "import time\n",
    "from datetime import datetime, timedelta, date\n",
    "import json\n",
    "import pprint\n",
    "pp = pprint.PrettyPrinter(indent=4)\n",
    "pd.set_option('display.max_columns', None)\n",
    "\n",
    "now = datetime.now()\n",
    "current_date = now.strftime('%Y-%m-%d')\n",
    "print(current_date)\n",
    "file_date = \"2021-02-28\"\n",
    "statistics_file_end = \" - GMM- \" + file_date + \" .txt\"\n",
    "print(statistics_file_end)\n",
    "\n",
    "#Folders and Files\n",
    "\n",
    "# Folders\n",
    "repositoryFolder = \"D:/Repositories/Global-COVID-Surveillance/data/\"\n",
    "cleanedFolder = repositoryFolder + \"cleaned/\""
   ]
  },
  {
   "cell_type": "code",
   "execution_count": 32,
   "metadata": {
    "ExecuteTime": {
     "end_time": "2021-03-01T08:01:42.239693Z",
     "start_time": "2021-03-01T08:01:42.182092Z"
    },
    "scrolled": false
   },
   "outputs": [
    {
     "name": "stdout",
     "output_type": "stream",
     "text": [
      "Central Asia:\n",
      "Sargan test: chisq(511) = 11 (p-value = 1)\n",
      "\n",
      "Autocorrelation test (1): normal = -1.394803 (p-value = 0.16308)\n",
      "\n",
      "Autocorrelation test (2): normal = 1.27215 (p-value = 0.20332)\n",
      "\n",
      "Wald test for coefficients: chisq(8) = 23988.53 (p-value = < 2.22e-16)\n",
      "\n",
      "{'Autocorrelation test (1)': {'chisq': '',\n",
      "                              'p-value': '0.16308',\n",
      "                              'value': '-1.394803'},\n",
      " 'Autocorrelation test (2)': {'chisq': '',\n",
      "                              'p-value': '0.20332',\n",
      "                              'value': '1.27215'},\n",
      " 'Sargan test': {'chisq': '511', 'p-value': '1', 'value': '11'},\n",
      " 'Wald test for coefficients': {'chisq': '8',\n",
      "                                'p-value': '< 2.22e-16',\n",
      "                                'value': '23988.53'}}\n"
     ]
    },
    {
     "ename": "TypeError",
     "evalue": "unhashable type: 'dict'",
     "output_type": "error",
     "traceback": [
      "\u001b[1;31m---------------------------------------------------------------------------\u001b[0m",
      "\u001b[1;31mTypeError\u001b[0m                                 Traceback (most recent call last)",
      "\u001b[1;32m<ipython-input-32-38c214c2cfa6>\u001b[0m in \u001b[0;36m<module>\u001b[1;34m\u001b[0m\n\u001b[0;32m     55\u001b[0m         \u001b[0mnaValues\u001b[0m\u001b[1;33m[\u001b[0m\u001b[0mr\u001b[0m\u001b[1;33m]\u001b[0m \u001b[1;33m=\u001b[0m \u001b[1;33m{\u001b[0m\u001b[0mregionValues\u001b[0m\u001b[1;33m}\u001b[0m\u001b[1;33m\u001b[0m\u001b[1;33m\u001b[0m\u001b[0m\n\u001b[0;32m     56\u001b[0m     \u001b[1;32melse\u001b[0m\u001b[1;33m:\u001b[0m\u001b[1;33m\u001b[0m\u001b[1;33m\u001b[0m\u001b[0m\n\u001b[1;32m---> 57\u001b[1;33m         \u001b[0mtestValues\u001b[0m\u001b[1;33m[\u001b[0m\u001b[0mr\u001b[0m\u001b[1;33m]\u001b[0m \u001b[1;33m=\u001b[0m \u001b[1;33m{\u001b[0m\u001b[0mregionValues\u001b[0m\u001b[1;33m}\u001b[0m\u001b[1;33m\u001b[0m\u001b[1;33m\u001b[0m\u001b[0m\n\u001b[0m\u001b[0;32m     58\u001b[0m     \u001b[0mpprint\u001b[0m\u001b[1;33m.\u001b[0m\u001b[0mpprint\u001b[0m\u001b[1;33m(\u001b[0m\u001b[0mregionValues\u001b[0m\u001b[1;33m)\u001b[0m\u001b[1;33m\u001b[0m\u001b[1;33m\u001b[0m\u001b[0m\n\u001b[0;32m     59\u001b[0m \u001b[0mtestValues\u001b[0m\u001b[1;33m[\u001b[0m\u001b[1;34m\"North Ameria\"\u001b[0m\u001b[1;33m]\u001b[0m \u001b[1;33m=\u001b[0m \u001b[0mnaValues\u001b[0m\u001b[1;33m\u001b[0m\u001b[1;33m\u001b[0m\u001b[0m\n",
      "\u001b[1;31mTypeError\u001b[0m: unhashable type: 'dict'"
     ]
    }
   ],
   "source": [
    "pgmm_files = [\n",
    "    'Central Asia',\n",
    "    'East Asia and Pacific',\n",
    "    'Europe',\n",
    "    'Latin America',\n",
    "    'Middle East and North Africa',\n",
    "    'United States',\n",
    "    'Canada',\n",
    "    'South Asia',\n",
    "    'Sub-Saharan Africa'\n",
    "]\n",
    "tests = [\n",
    "    \"Sargan test\",\n",
    "    \"Autocorrelation test\",\n",
    "    \"Wald test\"\n",
    "]\n",
    "testValues = {}\n",
    "naValues = {}\n",
    "for r in pgmm_files:\n",
    "    statistics_read_file = cleanedFolder + r + statistics_file_end\n",
    "    file = open(statistics_read_file, 'r')\n",
    "    lines = file.readlines()\n",
    "    print(r+\":\")\n",
    "    regionValues = {}\n",
    "    for line in lines:\n",
    "        for test in tests:\n",
    "            testFound = line.find(test)\n",
    "            if testFound>-1:\n",
    "                print(line)\n",
    "                testName = line[0:line.find(\":\")]\n",
    "                chisq = \"\"\n",
    "                lineSplit = \"\"\n",
    "                chisqFound = line.find(\"chisq(\")\n",
    "                if chisqFound>-1:\n",
    "                    lineSplit = \") = \"\n",
    "                    chisq = line[chisqFound+6:line.find(lineSplit)]\n",
    "                else:\n",
    "                    lineSplit = \" = \"\n",
    "                testSplit = line.find(lineSplit)\n",
    "                testLength = testSplit + len(lineSplit)\n",
    "                testEnd = line[testLength:]\n",
    "                testSpace = testEnd.find(\" \")\n",
    "                testStat = testEnd[0:testSpace]\n",
    "                pValueFound = line.find(\"(p-value = \")+len(\"(p-value = \")\n",
    "                pValueEnd = line[pValueFound:]\n",
    "                pValueClose = pValueEnd.find(\")\")\n",
    "                pValue = pValueEnd[0:pValueClose]\n",
    "                regionValues[testName] = {\n",
    "                    \"chisq\":chisq,\n",
    "                    \"value\":testStat,\n",
    "                    \"p-value\":pValue\n",
    "                }\n",
    "    pprint.pprint(regionValues)\n",
    "    if (r == \"Canada\") or (r == \"United States\"):\n",
    "        naValues[r] = {regionValues}\n",
    "    else:\n",
    "        testValues[r] = {regionValues}\n",
    "    pprint.pprint(regionValues)\n",
    "testValues[\"North Ameria\"] = naValues\n",
    "print(\"All:\")\n",
    "pprint.pprint(testValues)"
   ]
  },
  {
   "cell_type": "code",
   "execution_count": null,
   "metadata": {},
   "outputs": [],
   "source": []
  }
 ],
 "metadata": {
  "kernelspec": {
   "display_name": "Python 3",
   "language": "python",
   "name": "python3"
  },
  "language_info": {
   "codemirror_mode": {
    "name": "ipython",
    "version": 3
   },
   "file_extension": ".py",
   "mimetype": "text/x-python",
   "name": "python",
   "nbconvert_exporter": "python",
   "pygments_lexer": "ipython3",
   "version": "3.7.3"
  },
  "varInspector": {
   "cols": {
    "lenName": 16,
    "lenType": 16,
    "lenVar": 40
   },
   "kernels_config": {
    "python": {
     "delete_cmd_postfix": "",
     "delete_cmd_prefix": "del ",
     "library": "var_list.py",
     "varRefreshCmd": "print(var_dic_list())"
    },
    "r": {
     "delete_cmd_postfix": ") ",
     "delete_cmd_prefix": "rm(",
     "library": "var_list.r",
     "varRefreshCmd": "cat(var_dic_list()) "
    }
   },
   "types_to_exclude": [
    "module",
    "function",
    "builtin_function_or_method",
    "instance",
    "_Feature"
   ],
   "window_display": false
  }
 },
 "nbformat": 4,
 "nbformat_minor": 2
}
