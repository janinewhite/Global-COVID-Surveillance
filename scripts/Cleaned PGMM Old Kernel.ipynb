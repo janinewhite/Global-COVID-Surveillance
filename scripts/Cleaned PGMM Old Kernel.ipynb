{
 "cells": [
  {
   "cell_type": "code",
   "execution_count": null,
   "metadata": {
    "ExecuteTime": {
     "end_time": "2021-01-26T06:00:07.224609Z",
     "start_time": "2021-01-26T06:00:03.464718Z"
    }
   },
   "outputs": [],
   "source": [
    "# Dependencies\n",
    "%matplotlib inline\n",
    "import pandas as pd\n",
    "import numpy as np\n",
    "import matplotlib.pyplot as plt\n",
    "import requests\n",
    "import io\n",
    "import time\n",
    "from datetime import datetime, timedelta\n",
    "import json\n",
    "import pprint\n",
    "pp = pprint.PrettyPrinter(indent=4)\n",
    "pd.set_option('display.max_columns', None)\n",
    "\n",
    "rFolder = \"C:/Users/janin/Downloads/\"\n",
    "dataFolder = \"D:/Repositories/Global-COVID-Surveillance/data/\"\n",
    "cleanedFolder = dataFolder + \"cleaned/\"\n",
    "\n",
    "\n",
    "now = datetime.now()\n",
    "current_date = now.strftime('%Y-%m-%d')\n",
    "print(current_date)\n",
    "file_date = \"2021-01-25\"\n",
    "file_end = \" -Results- \" + current_date +\" .csv\"\n",
    "output_file_end = \" -Results- \" + file_date +\" .csv\"\n",
    "statistics_file_end = \" - GMM - \" + file_date + \" .txt\"\n",
    "print(file_end)\n",
    "\n",
    "def print_column_unique(column):\n",
    "    print(\"Column Values:\")\n",
    "    values = list(set(sorted(column,key=lambda v: (isinstance(v, str), v))))\n",
    "    print(values)\n",
    "    return values\n",
    "\n",
    "def print_column_missing(column, comparison):\n",
    "    values = print_column_unique(column)\n",
    "    print(\"Comparison:\")\n",
    "    print(comparison)\n",
    "    missing_values = []\n",
    "    for value in values:\n",
    "        inComparison = False\n",
    "        for c in comparison:\n",
    "            inComparison = (str(value) == str(c))\n",
    "            if inComparison:\n",
    "                break\n",
    "        if not inComparison:\n",
    "            missing_values.append(value)\n",
    "    if len(missing_values) > 0:\n",
    "        print(\"Column values not in comparison:\")\n",
    "        print(missing_values)\n",
    "    else:\n",
    "        print(\"No missing values\")\n",
    "    missing_values = []\n",
    "    for value in comparison:\n",
    "        if not value in values:\n",
    "            missing_values.append(value)\n",
    "    if len(missing_values) > 0:\n",
    "        print(\"Comparison values not in column:\")\n",
    "        print(missing_values)\n",
    "    else:\n",
    "        print(\"No missing values\")\n",
    "    return values"
   ]
  },
  {
   "cell_type": "markdown",
   "metadata": {
    "ExecuteTime": {
     "end_time": "2021-01-06T04:03:58.231985Z",
     "start_time": "2021-01-06T04:03:57.463527Z"
    }
   },
   "source": [
    "populations = pd.read_excel(cleanedFolder + \"all_populations.xlsx\")\n",
    "population_groups = [\"Level\",\"Region\",\"Census Region\",\"Country\",\"State/Province\"]\n",
    "for group in population_groups:\n",
    "    populations[group] = populations[group].astype(str)\n",
    "    populations[group] = populations[group].apply(lambda x: \"\" if x==\"nan\" else x)\n",
    "populations.head()"
   ]
  },
  {
   "cell_type": "code",
   "execution_count": null,
   "metadata": {
    "ExecuteTime": {
     "end_time": "2021-01-26T06:00:07.855279Z",
     "start_time": "2021-01-26T06:00:07.229453Z"
    },
    "scrolled": false
   },
   "outputs": [],
   "source": [
    "# Read starter\n",
    "\n",
    "pgmm = pd.read_excel(dataFolder + \"Starter.xlsx\")\n",
    "print(pgmm.columns)\n",
    "pgmm.head()\n",
    "\n",
    "# Read R results\n",
    "\n",
    "pgmm_files = [\n",
    "    'Central Asia',\n",
    "    'East Asia and Pacific',\n",
    "    'Europe',\n",
    "    'Latin America',\n",
    "    'Middle East and North Africa',\n",
    "    'United States',\n",
    "    'Canada',\n",
    "    'South Asia',\n",
    "    'Sub-Saharan Africa'\n",
    "]\n",
    "\n",
    "def readOutput(r,pgmm_read_file):\n",
    "    df = pd.read_csv(pgmm_read_file)\n",
    "    df = df.drop([\"Unnamed: 0\"], axis=1)\n",
    "    df = df[df[\"V1\"] != 0]\n",
    "    if ((r == \"Canada\") or (r == \"United States\")):\n",
    "        df[\"Region\"] = \"North America\"\n",
    "        df.rename(columns = {\"V2\": \"State/Province\"}, inplace=True)\n",
    "        df[\"Country\"] = r\n",
    "        df[\"Level\"] = df[\"State/Province\"].apply(lambda x: \"Country\" if (x == \"Region\") else \"State/Province\")\n",
    "        df[\"State/Province\"] = df[\"State/Province\"].apply(lambda x: \"\" if (x == \"Region\") else x)\n",
    "    else:\n",
    "        df[\"Region\"] = r\n",
    "        df.rename(columns = {\"V2\": \"Country\"}, inplace=True)\n",
    "        df[\"Level\"] = df[\"Country\"].apply(lambda x: \"Region\" if (x == \"Region\") else \"Country\")\n",
    "        df[\"Country\"] = df[\"Country\"].apply(lambda x: \"\" if (x == \"Region\") else x)\n",
    "        df[\"State/Province\"] = \"\"\n",
    "    df.rename(columns = {\n",
    "        \"V1\": 'Last Day of Week Excel Date',\n",
    "        \"V3\": 'Cases Daily Last Day of Week',\n",
    "        \"V4\": 'Total Cases Last Day of Week',\n",
    "        \"V5\": 'Cases 7D Moving Average',\n",
    "        \"V6\": 'Cases Last Day of Week Rate 100K',\n",
    "        \"V7\": 'Deaths Daily Last Day of Week',\n",
    "        \"V8\": 'Total Deaths Last Day of Week',\n",
    "        \"V9\": 'Deaths 7D Moving Average',\n",
    "        \"V10\": 'Deaths Last Day of Week Rate 100K',\n",
    "        \"V11\": 'Speed', #Cases Last Day of Week Rate 100K 7D Moving Average\n",
    "        \"V12\": 'Acceleration', #Average Daily Change in Speed\n",
    "        \"V13\": 'Jerk', #Average Daily Change in Acceleration\n",
    "        \"V14\": '1-Day Persistence', \n",
    "        \"V15\": '7-Day Persistence'\n",
    "    }, inplace=True)\n",
    "    return df\n",
    "    \n",
    "\n",
    "for r in pgmm_files:\n",
    "    file_stem = cleanedFolder + r\n",
    "    pgmm_read_file = file_stem + output_file_end\n",
    "    statistics_read_file = file_stem + statistics_file_end\n",
    "    output_df = readOutput(r,pgmm_read_file)\n",
    "    pgmm = pd.concat([pgmm, output_df], ignore_index=True, sort=False)\n",
    "\n",
    "# Create Time Variables\n",
    "pgmm[\"Last Day of Week Excel Date\"] = pgmm[\"Last Day of Week Excel Date\"].astype(int)\n",
    "pgmm[\"Time\"] = pgmm[\"Last Day of Week Excel Date\"].apply(lambda x: datetime.fromordinal(datetime(1900, 1, 1).toordinal() + x - 2))\n",
    "pgmm[\"Date\"] = pgmm[\"Time\"].apply(lambda x: x.strftime('%m/%d/%Y'))\n",
    "pgmm[\"Week\"] = pgmm[\"Date\"].apply(lambda x: \n",
    "                                  str(datetime.strptime(x, '%m/%d/%Y').isocalendar()[0]) + \n",
    "                                  \" W\" +\n",
    "                                  str(datetime.strptime(x, '%m/%d/%Y').isocalendar()[1])\n",
    "                                 )\n",
    "pgmm[\"Output\"] = True\n",
    "pgmm_order = [\n",
    "    'Region', 'Country', 'State/Province', \n",
    "    'Last Day of Week Excel Date', 'Date', 'Week',\n",
    "    'Speed', 'Acceleration', 'Jerk', '7-Day Persistence', '1-Day Persistence',\n",
    "    'Cases Daily Last Day of Week', 'Total Cases Last Day of Week',\n",
    "    'Cases 7D Moving Average', 'Cases Last Day of Week Rate 100K',\n",
    "    'Deaths Daily Last Day of Week', 'Total Deaths Last Day of Week',\n",
    "    'Deaths 7D Moving Average', 'Deaths Last Day of Week Rate 100K', 'Output'\n",
    "]\n",
    "pgmm = pgmm[pgmm_order]\n",
    "pgmm.head(8)"
   ]
  },
  {
   "cell_type": "code",
   "execution_count": null,
   "metadata": {
    "ExecuteTime": {
     "end_time": "2021-01-26T06:00:07.931611Z",
     "start_time": "2021-01-26T06:00:07.863251Z"
    }
   },
   "outputs": [],
   "source": [
    "date_check = pgmm.groupby(pgmm[\"Country\"])[\"Week\"].max()\n",
    "date_check.head()"
   ]
  },
  {
   "cell_type": "markdown",
   "metadata": {
    "ExecuteTime": {
     "end_time": "2021-01-06T09:03:04.389426Z",
     "start_time": "2021-01-06T09:03:04.345510Z"
    }
   },
   "source": [
    "us_check = pgmm.loc[(pgmm[\"Country\"]==\"United States\") & (pgmm[\"State/Province\"]==\"\")]\n",
    "us_check.head()"
   ]
  },
  {
   "cell_type": "code",
   "execution_count": null,
   "metadata": {
    "ExecuteTime": {
     "end_time": "2021-01-26T06:03:14.513933Z",
     "start_time": "2021-01-26T06:00:07.938445Z"
    }
   },
   "outputs": [],
   "source": [
    "input_df = pd.read_excel(cleanedFolder + \"all_raw_input.xlsx\")\n",
    "input_df.drop(columns=[\"MM-DD-YYYY\",\"DD-MM-YYYY\"],inplace=True)\n",
    "input_df[\"State/Province\"] = input_df[\"State/Province\"].astype(str)\n",
    "input_df[\"State/Province\"] = input_df[\"State/Province\"].apply(lambda x: \"\" if x == \"nan\" else x)\n",
    "input_df[\"Census Region\"] = input_df[\"Census Region\"].astype(str)\n",
    "input_df[\"Census Region\"] = input_df[\"Census Region\"].apply(lambda x: \"\" if x == \"nan\" else x)\n",
    "input_df[\"Status\"] = input_df[\"Status\"].astype(str)\n",
    "input_df[\"Status\"] = input_df[\"Status\"].apply(lambda x: \"\" if x == \"nan\" else x)\n",
    "input_df[\"Data Quality\"] = input_df[\"Data Quality\"].astype(str)\n",
    "input_df[\"Data Quality\"] = input_df[\"Data Quality\"].apply(lambda x: \"\" if x == \"nan\" else x)\n",
    "input_df.head()"
   ]
  },
  {
   "cell_type": "markdown",
   "metadata": {
    "ExecuteTime": {
     "end_time": "2021-01-06T04:07:43.733570Z",
     "start_time": "2021-01-06T04:07:42.940373Z"
    }
   },
   "source": [
    "us_check = input_df.loc[(input_df[\"Country\"]==\"United States\") & (input_df[\"State/Province\"]==\"\")]\n",
    "us_check.head()"
   ]
  },
  {
   "cell_type": "code",
   "execution_count": null,
   "metadata": {
    "ExecuteTime": {
     "end_time": "2021-01-26T06:10:35.886279Z",
     "start_time": "2021-01-26T06:03:14.516859Z"
    }
   },
   "outputs": [],
   "source": [
    "all_df = input_df.merge(pgmm,how=\"left\",on=['Region', 'Country', 'State/Province', 'Date', 'Week'])\n",
    "all_df[\"Output\"] = all_df[\"Output\"].apply(lambda x: x if x==True else False)\n",
    "all_df[\"Level\"] = all_df.apply(\n",
    "    lambda x: \"Country\" if ((x[\"Country\"]==\"United States\") & (x[\"State/Province\"]==\"\")) else x[\"Level\"],\n",
    "    axis=1\n",
    ")\n",
    "all_order = [\n",
    "    'Level', 'Region', 'Country', 'Census Region', 'State/Province', 'Abbreviation', 'FIPS',\n",
    "    'Time','Date','Week', 'First Day of Week', 'Last Day of Week', 'Week Date Range', 'Last Day of Week Excel Date', 'Accessed',\n",
    "    'Output', 'Status', 'Data Quality',\n",
    "    'Speed', 'Speed Daily', 'Acceleration', 'Acceleration Daily', 'Jerk', 'Jerk Daily', '7-Day Persistence', '1-Day Persistence',\n",
    "    'Cases Daily', 'Cases Daily 7D Rolling', 'Cases 7D Moving Average', 'Cases Daily Last Day of Week', \n",
    "    'Cases Daily Rate', 'Cases Daily Rate 7D Rolling', 'Cases Last Day of Week Rate 100K',\n",
    "    'Total Cases', 'Total Cases Rate', 'Total Cases Last Day of Week',\n",
    "    'Deaths Daily', 'Deaths Daily 7D Rolling', 'Deaths 7D Moving Average', 'Deaths Daily Last Day of Week', \n",
    "    'Deaths Daily Rate', 'Deaths Daily Rate 7D Rolling', 'Deaths Last Day of Week Rate 100K', \n",
    "    'Total Deaths', 'Total Deaths Rate', 'Total Deaths Last Day of Week',\n",
    "    'Tests Daily', 'Tests Daily 7D Rolling',\n",
    "    'Tests Daily Rate', 'Tests Daily Rate 7D Rolling',\n",
    "    'Total Tests', 'Total Tests Rate',\n",
    "    'Positivity 7D Rolling', \n",
    "    'Active Daily', 'Total Active', \n",
    "    'Negative Daily', 'Total Negative', \n",
    "    'Recovered Daily', 'Total Recovered', \n",
    "    'Hospitalized Daily', 'Currently Hospitalized', 'Total Hospitalized', \n",
    "    'ICU Daily', 'Total ICU', \n",
    "    'Currently In ICU', 'Total In ICU', \n",
    "    'Currently On Ventilator', 'Total On Ventilator', \n",
    "    \"Population\",\"Population 100K\",\n",
    "    \"Country Population\",\"Country Population 100K\", \"Country Share\",\n",
    "    \"Region Population\",\"Region Population 100K\", \"Region Share\",\n",
    "    \"World Population\", \"World Population 100K\", \"World Share\",\n",
    "    'World Share (%)', 'Urban Population (%)', 'Annual Change (%)', 'Net Change', 'Migrants (net)', 'Density (P/Km²)',\n",
    "    'Land Area (Km²)', 'Fertility Rate', 'Median Age',\n",
    "    '< 1', 1, 2, 3, 4, 5, 6, 7, 8, 9,\n",
    "    10, 11, 12, 13, 14, 15, 16, 17, 18, 19,\n",
    "    20, 21, 22, 23, 24, 25, 26, 27, 28, 29,\n",
    "    30, 31, 32, 33, 34, 35, 36, 37, 38, 39,\n",
    "    40, 41, 42, 43, 44, 45, 46, 47, 48, 49,\n",
    "    50, 51, 52, 53, 54, 55, 56, 57, 58, 59,\n",
    "    60, 61, 62, 63, 64, 65, 66, 67, 68, 69,\n",
    "    70, 71, 72, 73, 74, 75, 76, 77, 78, 79,\n",
    "    80, 81, 82, 83, 84, '85+',\n",
    "    '1-4','5-14','15-24','25-34','35-44','45-54','55-64','65-74','75-84',\n",
    "    'Pct < 1','Pct 1-4','Pct 5-14','Pct 15-24','Pct 25-34','Pct 35-44','Pct 45-54','Pct 55-64','Pct 65-74','Pct 75-84','Pct 85+'\n",
    "]\n",
    "print_column_missing(all_df.columns,all_order)\n",
    "all_df = all_df[all_order]\n",
    "\n",
    "all_out_file = cleanedFolder + \"all_combined.xlsx\"\n",
    "print(all_out_file)\n",
    "all_df.to_excel(all_out_file, index=False)\n",
    "all_df.head(14)"
   ]
  },
  {
   "cell_type": "markdown",
   "metadata": {
    "ExecuteTime": {
     "end_time": "2021-01-06T04:13:53.875849Z",
     "start_time": "2021-01-06T04:13:53.513600Z"
    }
   },
   "source": [
    "us_check = all_df.loc[(all_df[\"Country\"]==\"United States\") & (all_df[\"State/Province\"]==\"\") & (all_df[\"Output\"]==True)]\n",
    "us_check.head()"
   ]
  },
  {
   "cell_type": "code",
   "execution_count": 7,
   "metadata": {
    "ExecuteTime": {
     "end_time": "2021-01-26T06:14:02.839615Z",
     "start_time": "2021-01-26T06:14:02.503279Z"
    }
   },
   "outputs": [
    {
     "data": {
      "text/html": [
       "<div>\n",
       "<style scoped>\n",
       "    .dataframe tbody tr th:only-of-type {\n",
       "        vertical-align: middle;\n",
       "    }\n",
       "\n",
       "    .dataframe tbody tr th {\n",
       "        vertical-align: top;\n",
       "    }\n",
       "\n",
       "    .dataframe thead th {\n",
       "        text-align: right;\n",
       "    }\n",
       "</style>\n",
       "<table border=\"1\" class=\"dataframe\">\n",
       "  <thead>\n",
       "    <tr style=\"text-align: right;\">\n",
       "      <th></th>\n",
       "      <th>Time</th>\n",
       "      <th>Week</th>\n",
       "    </tr>\n",
       "    <tr>\n",
       "      <th>Country</th>\n",
       "      <th></th>\n",
       "      <th></th>\n",
       "    </tr>\n",
       "  </thead>\n",
       "  <tbody>\n",
       "    <tr>\n",
       "      <th>Afghanistan</th>\n",
       "      <td>2021-01-24</td>\n",
       "      <td>2021 W3</td>\n",
       "    </tr>\n",
       "    <tr>\n",
       "      <th>Albania</th>\n",
       "      <td>2021-01-24</td>\n",
       "      <td>2021 W3</td>\n",
       "    </tr>\n",
       "    <tr>\n",
       "      <th>Algeria</th>\n",
       "      <td>2021-01-24</td>\n",
       "      <td>2021 W3</td>\n",
       "    </tr>\n",
       "    <tr>\n",
       "      <th>Andorra</th>\n",
       "      <td>2021-01-24</td>\n",
       "      <td>2021 W3</td>\n",
       "    </tr>\n",
       "    <tr>\n",
       "      <th>Angola</th>\n",
       "      <td>2021-01-24</td>\n",
       "      <td>2021 W3</td>\n",
       "    </tr>\n",
       "  </tbody>\n",
       "</table>\n",
       "</div>"
      ],
      "text/plain": [
       "                   Time     Week\n",
       "Country                         \n",
       "Afghanistan  2021-01-24  2021 W3\n",
       "Albania      2021-01-24  2021 W3\n",
       "Algeria      2021-01-24  2021 W3\n",
       "Andorra      2021-01-24  2021 W3\n",
       "Angola       2021-01-24  2021 W3"
      ]
     },
     "execution_count": 7,
     "metadata": {},
     "output_type": "execute_result"
    }
   ],
   "source": [
    "date_check = all_df.groupby(all_df[\"Country\"])[\"Time\",\"Week\"].max()\n",
    "date_check.head()"
   ]
  },
  {
   "cell_type": "code",
   "execution_count": null,
   "metadata": {},
   "outputs": [],
   "source": []
  }
 ],
 "metadata": {
  "kernelspec": {
   "display_name": "Python 3",
   "language": "python",
   "name": "python3"
  },
  "varInspector": {
   "cols": {
    "lenName": 16,
    "lenType": 16,
    "lenVar": 40
   },
   "kernels_config": {
    "python": {
     "delete_cmd_postfix": "",
     "delete_cmd_prefix": "del ",
     "library": "var_list.py",
     "varRefreshCmd": "print(var_dic_list())"
    },
    "r": {
     "delete_cmd_postfix": ") ",
     "delete_cmd_prefix": "rm(",
     "library": "var_list.r",
     "varRefreshCmd": "cat(var_dic_list()) "
    }
   },
   "types_to_exclude": [
    "module",
    "function",
    "builtin_function_or_method",
    "instance",
    "_Feature"
   ],
   "window_display": false
  }
 },
 "nbformat": 4,
 "nbformat_minor": 2
}
